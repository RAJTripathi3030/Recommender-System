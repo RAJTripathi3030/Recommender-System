{
 "cells": [
  {
   "cell_type": "code",
   "execution_count": 5,
   "id": "ea1bbdf2",
   "metadata": {
    "_cell_guid": "b1076dfc-b9ad-4769-8c92-a6c4dae69d19",
    "_uuid": "8f2839f25d086af736a60e9eeb907d3b93b6e0e5",
    "papermill": {
     "duration": 0.503207,
     "end_time": "2024-09-16T11:12:10.014822",
     "exception": false,
     "start_time": "2024-09-16T11:12:09.511615",
     "status": "completed"
    },
    "tags": []
   },
   "outputs": [],
   "source": [
    "import numpy as np\n",
    "import pandas as pd "
   ]
  },
  {
   "cell_type": "code",
   "execution_count": 6,
   "id": "a71a6e45",
   "metadata": {
    "papermill": {
     "duration": 0.024577,
     "end_time": "2024-09-16T11:12:10.054188",
     "exception": false,
     "start_time": "2024-09-16T11:12:10.029611",
     "status": "completed"
    },
    "tags": []
   },
   "outputs": [],
   "source": [
    "import warnings as warn\n",
    "warn.filterwarnings('ignore')"
   ]
  },
  {
   "cell_type": "code",
   "execution_count": 8,
   "id": "00106ad1-b36e-4a32-92f1-c04dbb0e7588",
   "metadata": {},
   "outputs": [],
   "source": [
    "df = pd.read_csv(r\"C:\\Users\\rajtr\\Desktop\\Data Science\\Projects\\Recommender-System\\tmdb_5000_credits.csv\")"
   ]
  },
  {
   "cell_type": "code",
   "execution_count": 12,
   "id": "c8377c28-4d67-4b33-8d46-f94c66711c35",
   "metadata": {},
   "outputs": [
    {
     "data": {
      "text/html": [
       "<div>\n",
       "<style scoped>\n",
       "    .dataframe tbody tr th:only-of-type {\n",
       "        vertical-align: middle;\n",
       "    }\n",
       "\n",
       "    .dataframe tbody tr th {\n",
       "        vertical-align: top;\n",
       "    }\n",
       "\n",
       "    .dataframe thead th {\n",
       "        text-align: right;\n",
       "    }\n",
       "</style>\n",
       "<table border=\"1\" class=\"dataframe\">\n",
       "  <thead>\n",
       "    <tr style=\"text-align: right;\">\n",
       "      <th></th>\n",
       "      <th>movie_id</th>\n",
       "      <th>title</th>\n",
       "      <th>cast</th>\n",
       "      <th>crew</th>\n",
       "    </tr>\n",
       "  </thead>\n",
       "  <tbody>\n",
       "    <tr>\n",
       "      <th>0</th>\n",
       "      <td>19995</td>\n",
       "      <td>Avatar</td>\n",
       "      <td>[{\"cast_id\": 242, \"character\": \"Jake Sully\", \"...</td>\n",
       "      <td>[{\"credit_id\": \"52fe48009251416c750aca23\", \"de...</td>\n",
       "    </tr>\n",
       "    <tr>\n",
       "      <th>1</th>\n",
       "      <td>285</td>\n",
       "      <td>Pirates of the Caribbean: At World's End</td>\n",
       "      <td>[{\"cast_id\": 4, \"character\": \"Captain Jack Spa...</td>\n",
       "      <td>[{\"credit_id\": \"52fe4232c3a36847f800b579\", \"de...</td>\n",
       "    </tr>\n",
       "    <tr>\n",
       "      <th>2</th>\n",
       "      <td>206647</td>\n",
       "      <td>Spectre</td>\n",
       "      <td>[{\"cast_id\": 1, \"character\": \"James Bond\", \"cr...</td>\n",
       "      <td>[{\"credit_id\": \"54805967c3a36829b5002c41\", \"de...</td>\n",
       "    </tr>\n",
       "    <tr>\n",
       "      <th>3</th>\n",
       "      <td>49026</td>\n",
       "      <td>The Dark Knight Rises</td>\n",
       "      <td>[{\"cast_id\": 2, \"character\": \"Bruce Wayne / Ba...</td>\n",
       "      <td>[{\"credit_id\": \"52fe4781c3a36847f81398c3\", \"de...</td>\n",
       "    </tr>\n",
       "    <tr>\n",
       "      <th>4</th>\n",
       "      <td>49529</td>\n",
       "      <td>John Carter</td>\n",
       "      <td>[{\"cast_id\": 5, \"character\": \"John Carter\", \"c...</td>\n",
       "      <td>[{\"credit_id\": \"52fe479ac3a36847f813eaa3\", \"de...</td>\n",
       "    </tr>\n",
       "  </tbody>\n",
       "</table>\n",
       "</div>"
      ],
      "text/plain": [
       "   movie_id                                     title  \\\n",
       "0     19995                                    Avatar   \n",
       "1       285  Pirates of the Caribbean: At World's End   \n",
       "2    206647                                   Spectre   \n",
       "3     49026                     The Dark Knight Rises   \n",
       "4     49529                               John Carter   \n",
       "\n",
       "                                                cast  \\\n",
       "0  [{\"cast_id\": 242, \"character\": \"Jake Sully\", \"...   \n",
       "1  [{\"cast_id\": 4, \"character\": \"Captain Jack Spa...   \n",
       "2  [{\"cast_id\": 1, \"character\": \"James Bond\", \"cr...   \n",
       "3  [{\"cast_id\": 2, \"character\": \"Bruce Wayne / Ba...   \n",
       "4  [{\"cast_id\": 5, \"character\": \"John Carter\", \"c...   \n",
       "\n",
       "                                                crew  \n",
       "0  [{\"credit_id\": \"52fe48009251416c750aca23\", \"de...  \n",
       "1  [{\"credit_id\": \"52fe4232c3a36847f800b579\", \"de...  \n",
       "2  [{\"credit_id\": \"54805967c3a36829b5002c41\", \"de...  \n",
       "3  [{\"credit_id\": \"52fe4781c3a36847f81398c3\", \"de...  \n",
       "4  [{\"credit_id\": \"52fe479ac3a36847f813eaa3\", \"de...  "
      ]
     },
     "execution_count": 12,
     "metadata": {},
     "output_type": "execute_result"
    }
   ],
   "source": [
    "df.head()"
   ]
  },
  {
   "cell_type": "code",
   "execution_count": 9,
   "id": "fd8f801d",
   "metadata": {
    "papermill": {
     "duration": 1.297509,
     "end_time": "2024-09-16T11:12:11.366731",
     "exception": false,
     "start_time": "2024-09-16T11:12:10.069222",
     "status": "completed"
    },
    "tags": []
   },
   "outputs": [],
   "source": [
    "# movies = pd.read_csv('/kaggle/input/tmdb-movie-metadata/tmdb_5000_movies.csv')\n",
    "# credits = pd.read_csv('/kaggle/input/tmdb-movie-metadata/tmdb_5000_credits.csv')"
   ]
  },
  {
   "cell_type": "code",
   "execution_count": 4,
   "id": "acb9848d",
   "metadata": {
    "execution": {
     "iopub.execute_input": "2024-09-16T11:12:11.398354Z",
     "iopub.status.busy": "2024-09-16T11:12:11.397834Z",
     "iopub.status.idle": "2024-09-16T11:12:11.443927Z",
     "shell.execute_reply": "2024-09-16T11:12:11.442497Z"
    },
    "papermill": {
     "duration": 0.065497,
     "end_time": "2024-09-16T11:12:11.446985",
     "exception": false,
     "start_time": "2024-09-16T11:12:11.381488",
     "status": "completed"
    },
    "tags": []
   },
   "outputs": [],
   "source": [
    "df = movies.merge(credits, on = 'title')"
   ]
  },
  {
   "cell_type": "code",
   "execution_count": 5,
   "id": "beda0028",
   "metadata": {
    "execution": {
     "iopub.execute_input": "2024-09-16T11:12:11.478923Z",
     "iopub.status.busy": "2024-09-16T11:12:11.478455Z",
     "iopub.status.idle": "2024-09-16T11:12:11.514315Z",
     "shell.execute_reply": "2024-09-16T11:12:11.512673Z"
    },
    "papermill": {
     "duration": 0.055224,
     "end_time": "2024-09-16T11:12:11.517226",
     "exception": false,
     "start_time": "2024-09-16T11:12:11.462002",
     "status": "completed"
    },
    "tags": []
   },
   "outputs": [
    {
     "data": {
      "text/html": [
       "<div>\n",
       "<style scoped>\n",
       "    .dataframe tbody tr th:only-of-type {\n",
       "        vertical-align: middle;\n",
       "    }\n",
       "\n",
       "    .dataframe tbody tr th {\n",
       "        vertical-align: top;\n",
       "    }\n",
       "\n",
       "    .dataframe thead th {\n",
       "        text-align: right;\n",
       "    }\n",
       "</style>\n",
       "<table border=\"1\" class=\"dataframe\">\n",
       "  <thead>\n",
       "    <tr style=\"text-align: right;\">\n",
       "      <th></th>\n",
       "      <th>budget</th>\n",
       "      <th>genres</th>\n",
       "      <th>homepage</th>\n",
       "      <th>id</th>\n",
       "      <th>keywords</th>\n",
       "      <th>original_language</th>\n",
       "      <th>original_title</th>\n",
       "      <th>overview</th>\n",
       "      <th>popularity</th>\n",
       "      <th>production_companies</th>\n",
       "      <th>...</th>\n",
       "      <th>runtime</th>\n",
       "      <th>spoken_languages</th>\n",
       "      <th>status</th>\n",
       "      <th>tagline</th>\n",
       "      <th>title</th>\n",
       "      <th>vote_average</th>\n",
       "      <th>vote_count</th>\n",
       "      <th>movie_id</th>\n",
       "      <th>cast</th>\n",
       "      <th>crew</th>\n",
       "    </tr>\n",
       "  </thead>\n",
       "  <tbody>\n",
       "    <tr>\n",
       "      <th>0</th>\n",
       "      <td>237000000</td>\n",
       "      <td>[{\"id\": 28, \"name\": \"Action\"}, {\"id\": 12, \"nam...</td>\n",
       "      <td>http://www.avatarmovie.com/</td>\n",
       "      <td>19995</td>\n",
       "      <td>[{\"id\": 1463, \"name\": \"culture clash\"}, {\"id\":...</td>\n",
       "      <td>en</td>\n",
       "      <td>Avatar</td>\n",
       "      <td>In the 22nd century, a paraplegic Marine is di...</td>\n",
       "      <td>150.437577</td>\n",
       "      <td>[{\"name\": \"Ingenious Film Partners\", \"id\": 289...</td>\n",
       "      <td>...</td>\n",
       "      <td>162.0</td>\n",
       "      <td>[{\"iso_639_1\": \"en\", \"name\": \"English\"}, {\"iso...</td>\n",
       "      <td>Released</td>\n",
       "      <td>Enter the World of Pandora.</td>\n",
       "      <td>Avatar</td>\n",
       "      <td>7.2</td>\n",
       "      <td>11800</td>\n",
       "      <td>19995</td>\n",
       "      <td>[{\"cast_id\": 242, \"character\": \"Jake Sully\", \"...</td>\n",
       "      <td>[{\"credit_id\": \"52fe48009251416c750aca23\", \"de...</td>\n",
       "    </tr>\n",
       "    <tr>\n",
       "      <th>1</th>\n",
       "      <td>300000000</td>\n",
       "      <td>[{\"id\": 12, \"name\": \"Adventure\"}, {\"id\": 14, \"...</td>\n",
       "      <td>http://disney.go.com/disneypictures/pirates/</td>\n",
       "      <td>285</td>\n",
       "      <td>[{\"id\": 270, \"name\": \"ocean\"}, {\"id\": 726, \"na...</td>\n",
       "      <td>en</td>\n",
       "      <td>Pirates of the Caribbean: At World's End</td>\n",
       "      <td>Captain Barbossa, long believed to be dead, ha...</td>\n",
       "      <td>139.082615</td>\n",
       "      <td>[{\"name\": \"Walt Disney Pictures\", \"id\": 2}, {\"...</td>\n",
       "      <td>...</td>\n",
       "      <td>169.0</td>\n",
       "      <td>[{\"iso_639_1\": \"en\", \"name\": \"English\"}]</td>\n",
       "      <td>Released</td>\n",
       "      <td>At the end of the world, the adventure begins.</td>\n",
       "      <td>Pirates of the Caribbean: At World's End</td>\n",
       "      <td>6.9</td>\n",
       "      <td>4500</td>\n",
       "      <td>285</td>\n",
       "      <td>[{\"cast_id\": 4, \"character\": \"Captain Jack Spa...</td>\n",
       "      <td>[{\"credit_id\": \"52fe4232c3a36847f800b579\", \"de...</td>\n",
       "    </tr>\n",
       "  </tbody>\n",
       "</table>\n",
       "<p>2 rows × 23 columns</p>\n",
       "</div>"
      ],
      "text/plain": [
       "      budget                                             genres  \\\n",
       "0  237000000  [{\"id\": 28, \"name\": \"Action\"}, {\"id\": 12, \"nam...   \n",
       "1  300000000  [{\"id\": 12, \"name\": \"Adventure\"}, {\"id\": 14, \"...   \n",
       "\n",
       "                                       homepage     id  \\\n",
       "0                   http://www.avatarmovie.com/  19995   \n",
       "1  http://disney.go.com/disneypictures/pirates/    285   \n",
       "\n",
       "                                            keywords original_language  \\\n",
       "0  [{\"id\": 1463, \"name\": \"culture clash\"}, {\"id\":...                en   \n",
       "1  [{\"id\": 270, \"name\": \"ocean\"}, {\"id\": 726, \"na...                en   \n",
       "\n",
       "                             original_title  \\\n",
       "0                                    Avatar   \n",
       "1  Pirates of the Caribbean: At World's End   \n",
       "\n",
       "                                            overview  popularity  \\\n",
       "0  In the 22nd century, a paraplegic Marine is di...  150.437577   \n",
       "1  Captain Barbossa, long believed to be dead, ha...  139.082615   \n",
       "\n",
       "                                production_companies  ... runtime  \\\n",
       "0  [{\"name\": \"Ingenious Film Partners\", \"id\": 289...  ...   162.0   \n",
       "1  [{\"name\": \"Walt Disney Pictures\", \"id\": 2}, {\"...  ...   169.0   \n",
       "\n",
       "                                    spoken_languages    status  \\\n",
       "0  [{\"iso_639_1\": \"en\", \"name\": \"English\"}, {\"iso...  Released   \n",
       "1           [{\"iso_639_1\": \"en\", \"name\": \"English\"}]  Released   \n",
       "\n",
       "                                          tagline  \\\n",
       "0                     Enter the World of Pandora.   \n",
       "1  At the end of the world, the adventure begins.   \n",
       "\n",
       "                                      title vote_average vote_count movie_id  \\\n",
       "0                                    Avatar          7.2      11800    19995   \n",
       "1  Pirates of the Caribbean: At World's End          6.9       4500      285   \n",
       "\n",
       "                                                cast  \\\n",
       "0  [{\"cast_id\": 242, \"character\": \"Jake Sully\", \"...   \n",
       "1  [{\"cast_id\": 4, \"character\": \"Captain Jack Spa...   \n",
       "\n",
       "                                                crew  \n",
       "0  [{\"credit_id\": \"52fe48009251416c750aca23\", \"de...  \n",
       "1  [{\"credit_id\": \"52fe4232c3a36847f800b579\", \"de...  \n",
       "\n",
       "[2 rows x 23 columns]"
      ]
     },
     "execution_count": 5,
     "metadata": {},
     "output_type": "execute_result"
    }
   ],
   "source": [
    "df.head(2)"
   ]
  },
  {
   "cell_type": "code",
   "execution_count": 6,
   "id": "67c18d60",
   "metadata": {
    "execution": {
     "iopub.execute_input": "2024-09-16T11:12:11.551579Z",
     "iopub.status.busy": "2024-09-16T11:12:11.551058Z",
     "iopub.status.idle": "2024-09-16T11:12:11.560419Z",
     "shell.execute_reply": "2024-09-16T11:12:11.558775Z"
    },
    "papermill": {
     "duration": 0.030673,
     "end_time": "2024-09-16T11:12:11.563479",
     "exception": false,
     "start_time": "2024-09-16T11:12:11.532806",
     "status": "completed"
    },
    "tags": []
   },
   "outputs": [
    {
     "data": {
      "text/plain": [
       "(4809, 23)"
      ]
     },
     "execution_count": 6,
     "metadata": {},
     "output_type": "execute_result"
    }
   ],
   "source": [
    "df.shape"
   ]
  },
  {
   "cell_type": "code",
   "execution_count": 7,
   "id": "62a66261",
   "metadata": {
    "execution": {
     "iopub.execute_input": "2024-09-16T11:12:11.597567Z",
     "iopub.status.busy": "2024-09-16T11:12:11.597040Z",
     "iopub.status.idle": "2024-09-16T11:12:11.632179Z",
     "shell.execute_reply": "2024-09-16T11:12:11.630685Z"
    },
    "papermill": {
     "duration": 0.054898,
     "end_time": "2024-09-16T11:12:11.635285",
     "exception": false,
     "start_time": "2024-09-16T11:12:11.580387",
     "status": "completed"
    },
    "tags": []
   },
   "outputs": [
    {
     "name": "stdout",
     "output_type": "stream",
     "text": [
      "<class 'pandas.core.frame.DataFrame'>\n",
      "RangeIndex: 4809 entries, 0 to 4808\n",
      "Data columns (total 23 columns):\n",
      " #   Column                Non-Null Count  Dtype  \n",
      "---  ------                --------------  -----  \n",
      " 0   budget                4809 non-null   int64  \n",
      " 1   genres                4809 non-null   object \n",
      " 2   homepage              1713 non-null   object \n",
      " 3   id                    4809 non-null   int64  \n",
      " 4   keywords              4809 non-null   object \n",
      " 5   original_language     4809 non-null   object \n",
      " 6   original_title        4809 non-null   object \n",
      " 7   overview              4806 non-null   object \n",
      " 8   popularity            4809 non-null   float64\n",
      " 9   production_companies  4809 non-null   object \n",
      " 10  production_countries  4809 non-null   object \n",
      " 11  release_date          4808 non-null   object \n",
      " 12  revenue               4809 non-null   int64  \n",
      " 13  runtime               4807 non-null   float64\n",
      " 14  spoken_languages      4809 non-null   object \n",
      " 15  status                4809 non-null   object \n",
      " 16  tagline               3965 non-null   object \n",
      " 17  title                 4809 non-null   object \n",
      " 18  vote_average          4809 non-null   float64\n",
      " 19  vote_count            4809 non-null   int64  \n",
      " 20  movie_id              4809 non-null   int64  \n",
      " 21  cast                  4809 non-null   object \n",
      " 22  crew                  4809 non-null   object \n",
      "dtypes: float64(3), int64(5), object(15)\n",
      "memory usage: 864.2+ KB\n"
     ]
    }
   ],
   "source": [
    "df.info()"
   ]
  },
  {
   "cell_type": "code",
   "execution_count": 8,
   "id": "b7888de7",
   "metadata": {
    "execution": {
     "iopub.execute_input": "2024-09-16T11:12:11.670243Z",
     "iopub.status.busy": "2024-09-16T11:12:11.668419Z",
     "iopub.status.idle": "2024-09-16T11:12:11.686575Z",
     "shell.execute_reply": "2024-09-16T11:12:11.685171Z"
    },
    "papermill": {
     "duration": 0.03954,
     "end_time": "2024-09-16T11:12:11.690225",
     "exception": false,
     "start_time": "2024-09-16T11:12:11.650685",
     "status": "completed"
    },
    "tags": []
   },
   "outputs": [],
   "source": [
    "# making a new column called \"year\" to display the information of movie year\n",
    "df['release_date'] = pd.to_datetime(df['release_date'])\n",
    "df['year'] = df['release_date'].dt.year"
   ]
  },
  {
   "cell_type": "code",
   "execution_count": 9,
   "id": "05b0e862",
   "metadata": {
    "execution": {
     "iopub.execute_input": "2024-09-16T11:12:11.723590Z",
     "iopub.status.busy": "2024-09-16T11:12:11.722976Z",
     "iopub.status.idle": "2024-09-16T11:12:11.732365Z",
     "shell.execute_reply": "2024-09-16T11:12:11.731166Z"
    },
    "papermill": {
     "duration": 0.029213,
     "end_time": "2024-09-16T11:12:11.735133",
     "exception": false,
     "start_time": "2024-09-16T11:12:11.705920",
     "status": "completed"
    },
    "tags": []
   },
   "outputs": [
    {
     "data": {
      "text/plain": [
       "Index(['budget', 'genres', 'homepage', 'id', 'keywords', 'original_language',\n",
       "       'original_title', 'overview', 'popularity', 'production_companies',\n",
       "       'production_countries', 'release_date', 'revenue', 'runtime',\n",
       "       'spoken_languages', 'status', 'tagline', 'title', 'vote_average',\n",
       "       'vote_count', 'movie_id', 'cast', 'crew', 'year'],\n",
       "      dtype='object')"
      ]
     },
     "execution_count": 9,
     "metadata": {},
     "output_type": "execute_result"
    }
   ],
   "source": [
    "df.columns"
   ]
  },
  {
   "cell_type": "code",
   "execution_count": 10,
   "id": "7bdda202",
   "metadata": {
    "execution": {
     "iopub.execute_input": "2024-09-16T11:12:11.768563Z",
     "iopub.status.busy": "2024-09-16T11:12:11.768088Z",
     "iopub.status.idle": "2024-09-16T11:12:11.776682Z",
     "shell.execute_reply": "2024-09-16T11:12:11.775459Z"
    },
    "papermill": {
     "duration": 0.028642,
     "end_time": "2024-09-16T11:12:11.779072",
     "exception": false,
     "start_time": "2024-09-16T11:12:11.750430",
     "status": "completed"
    },
    "tags": []
   },
   "outputs": [],
   "source": [
    "final_df = df[['movie_id', 'title', 'overview', 'genres', 'keywords', 'cast', 'crew', 'year']]"
   ]
  },
  {
   "cell_type": "code",
   "execution_count": 11,
   "id": "1f4ee11c",
   "metadata": {
    "execution": {
     "iopub.execute_input": "2024-09-16T11:12:11.813506Z",
     "iopub.status.busy": "2024-09-16T11:12:11.812951Z",
     "iopub.status.idle": "2024-09-16T11:12:11.834049Z",
     "shell.execute_reply": "2024-09-16T11:12:11.832649Z"
    },
    "papermill": {
     "duration": 0.043223,
     "end_time": "2024-09-16T11:12:11.837499",
     "exception": false,
     "start_time": "2024-09-16T11:12:11.794276",
     "status": "completed"
    },
    "tags": []
   },
   "outputs": [
    {
     "data": {
      "text/html": [
       "<div>\n",
       "<style scoped>\n",
       "    .dataframe tbody tr th:only-of-type {\n",
       "        vertical-align: middle;\n",
       "    }\n",
       "\n",
       "    .dataframe tbody tr th {\n",
       "        vertical-align: top;\n",
       "    }\n",
       "\n",
       "    .dataframe thead th {\n",
       "        text-align: right;\n",
       "    }\n",
       "</style>\n",
       "<table border=\"1\" class=\"dataframe\">\n",
       "  <thead>\n",
       "    <tr style=\"text-align: right;\">\n",
       "      <th></th>\n",
       "      <th>movie_id</th>\n",
       "      <th>title</th>\n",
       "      <th>overview</th>\n",
       "      <th>genres</th>\n",
       "      <th>keywords</th>\n",
       "      <th>cast</th>\n",
       "      <th>crew</th>\n",
       "      <th>year</th>\n",
       "    </tr>\n",
       "  </thead>\n",
       "  <tbody>\n",
       "    <tr>\n",
       "      <th>0</th>\n",
       "      <td>19995</td>\n",
       "      <td>Avatar</td>\n",
       "      <td>In the 22nd century, a paraplegic Marine is di...</td>\n",
       "      <td>[{\"id\": 28, \"name\": \"Action\"}, {\"id\": 12, \"nam...</td>\n",
       "      <td>[{\"id\": 1463, \"name\": \"culture clash\"}, {\"id\":...</td>\n",
       "      <td>[{\"cast_id\": 242, \"character\": \"Jake Sully\", \"...</td>\n",
       "      <td>[{\"credit_id\": \"52fe48009251416c750aca23\", \"de...</td>\n",
       "      <td>2009.0</td>\n",
       "    </tr>\n",
       "    <tr>\n",
       "      <th>1</th>\n",
       "      <td>285</td>\n",
       "      <td>Pirates of the Caribbean: At World's End</td>\n",
       "      <td>Captain Barbossa, long believed to be dead, ha...</td>\n",
       "      <td>[{\"id\": 12, \"name\": \"Adventure\"}, {\"id\": 14, \"...</td>\n",
       "      <td>[{\"id\": 270, \"name\": \"ocean\"}, {\"id\": 726, \"na...</td>\n",
       "      <td>[{\"cast_id\": 4, \"character\": \"Captain Jack Spa...</td>\n",
       "      <td>[{\"credit_id\": \"52fe4232c3a36847f800b579\", \"de...</td>\n",
       "      <td>2007.0</td>\n",
       "    </tr>\n",
       "    <tr>\n",
       "      <th>2</th>\n",
       "      <td>206647</td>\n",
       "      <td>Spectre</td>\n",
       "      <td>A cryptic message from Bond’s past sends him o...</td>\n",
       "      <td>[{\"id\": 28, \"name\": \"Action\"}, {\"id\": 12, \"nam...</td>\n",
       "      <td>[{\"id\": 470, \"name\": \"spy\"}, {\"id\": 818, \"name...</td>\n",
       "      <td>[{\"cast_id\": 1, \"character\": \"James Bond\", \"cr...</td>\n",
       "      <td>[{\"credit_id\": \"54805967c3a36829b5002c41\", \"de...</td>\n",
       "      <td>2015.0</td>\n",
       "    </tr>\n",
       "    <tr>\n",
       "      <th>3</th>\n",
       "      <td>49026</td>\n",
       "      <td>The Dark Knight Rises</td>\n",
       "      <td>Following the death of District Attorney Harve...</td>\n",
       "      <td>[{\"id\": 28, \"name\": \"Action\"}, {\"id\": 80, \"nam...</td>\n",
       "      <td>[{\"id\": 849, \"name\": \"dc comics\"}, {\"id\": 853,...</td>\n",
       "      <td>[{\"cast_id\": 2, \"character\": \"Bruce Wayne / Ba...</td>\n",
       "      <td>[{\"credit_id\": \"52fe4781c3a36847f81398c3\", \"de...</td>\n",
       "      <td>2012.0</td>\n",
       "    </tr>\n",
       "    <tr>\n",
       "      <th>4</th>\n",
       "      <td>49529</td>\n",
       "      <td>John Carter</td>\n",
       "      <td>John Carter is a war-weary, former military ca...</td>\n",
       "      <td>[{\"id\": 28, \"name\": \"Action\"}, {\"id\": 12, \"nam...</td>\n",
       "      <td>[{\"id\": 818, \"name\": \"based on novel\"}, {\"id\":...</td>\n",
       "      <td>[{\"cast_id\": 5, \"character\": \"John Carter\", \"c...</td>\n",
       "      <td>[{\"credit_id\": \"52fe479ac3a36847f813eaa3\", \"de...</td>\n",
       "      <td>2012.0</td>\n",
       "    </tr>\n",
       "  </tbody>\n",
       "</table>\n",
       "</div>"
      ],
      "text/plain": [
       "   movie_id                                     title  \\\n",
       "0     19995                                    Avatar   \n",
       "1       285  Pirates of the Caribbean: At World's End   \n",
       "2    206647                                   Spectre   \n",
       "3     49026                     The Dark Knight Rises   \n",
       "4     49529                               John Carter   \n",
       "\n",
       "                                            overview  \\\n",
       "0  In the 22nd century, a paraplegic Marine is di...   \n",
       "1  Captain Barbossa, long believed to be dead, ha...   \n",
       "2  A cryptic message from Bond’s past sends him o...   \n",
       "3  Following the death of District Attorney Harve...   \n",
       "4  John Carter is a war-weary, former military ca...   \n",
       "\n",
       "                                              genres  \\\n",
       "0  [{\"id\": 28, \"name\": \"Action\"}, {\"id\": 12, \"nam...   \n",
       "1  [{\"id\": 12, \"name\": \"Adventure\"}, {\"id\": 14, \"...   \n",
       "2  [{\"id\": 28, \"name\": \"Action\"}, {\"id\": 12, \"nam...   \n",
       "3  [{\"id\": 28, \"name\": \"Action\"}, {\"id\": 80, \"nam...   \n",
       "4  [{\"id\": 28, \"name\": \"Action\"}, {\"id\": 12, \"nam...   \n",
       "\n",
       "                                            keywords  \\\n",
       "0  [{\"id\": 1463, \"name\": \"culture clash\"}, {\"id\":...   \n",
       "1  [{\"id\": 270, \"name\": \"ocean\"}, {\"id\": 726, \"na...   \n",
       "2  [{\"id\": 470, \"name\": \"spy\"}, {\"id\": 818, \"name...   \n",
       "3  [{\"id\": 849, \"name\": \"dc comics\"}, {\"id\": 853,...   \n",
       "4  [{\"id\": 818, \"name\": \"based on novel\"}, {\"id\":...   \n",
       "\n",
       "                                                cast  \\\n",
       "0  [{\"cast_id\": 242, \"character\": \"Jake Sully\", \"...   \n",
       "1  [{\"cast_id\": 4, \"character\": \"Captain Jack Spa...   \n",
       "2  [{\"cast_id\": 1, \"character\": \"James Bond\", \"cr...   \n",
       "3  [{\"cast_id\": 2, \"character\": \"Bruce Wayne / Ba...   \n",
       "4  [{\"cast_id\": 5, \"character\": \"John Carter\", \"c...   \n",
       "\n",
       "                                                crew    year  \n",
       "0  [{\"credit_id\": \"52fe48009251416c750aca23\", \"de...  2009.0  \n",
       "1  [{\"credit_id\": \"52fe4232c3a36847f800b579\", \"de...  2007.0  \n",
       "2  [{\"credit_id\": \"54805967c3a36829b5002c41\", \"de...  2015.0  \n",
       "3  [{\"credit_id\": \"52fe4781c3a36847f81398c3\", \"de...  2012.0  \n",
       "4  [{\"credit_id\": \"52fe479ac3a36847f813eaa3\", \"de...  2012.0  "
      ]
     },
     "execution_count": 11,
     "metadata": {},
     "output_type": "execute_result"
    }
   ],
   "source": [
    "final_df.head()"
   ]
  },
  {
   "cell_type": "code",
   "execution_count": 12,
   "id": "fe78c3d6",
   "metadata": {
    "execution": {
     "iopub.execute_input": "2024-09-16T11:12:11.873699Z",
     "iopub.status.busy": "2024-09-16T11:12:11.873184Z",
     "iopub.status.idle": "2024-09-16T11:12:11.890856Z",
     "shell.execute_reply": "2024-09-16T11:12:11.889039Z"
    },
    "papermill": {
     "duration": 0.038947,
     "end_time": "2024-09-16T11:12:11.894076",
     "exception": false,
     "start_time": "2024-09-16T11:12:11.855129",
     "status": "completed"
    },
    "tags": []
   },
   "outputs": [
    {
     "data": {
      "text/plain": [
       "movie_id    0\n",
       "title       0\n",
       "overview    3\n",
       "genres      0\n",
       "keywords    0\n",
       "cast        0\n",
       "crew        0\n",
       "year        1\n",
       "dtype: int64"
      ]
     },
     "execution_count": 12,
     "metadata": {},
     "output_type": "execute_result"
    }
   ],
   "source": [
    "final_df.isnull().sum()"
   ]
  },
  {
   "cell_type": "code",
   "execution_count": 13,
   "id": "ac53b20e",
   "metadata": {
    "execution": {
     "iopub.execute_input": "2024-09-16T11:12:11.930484Z",
     "iopub.status.busy": "2024-09-16T11:12:11.929972Z",
     "iopub.status.idle": "2024-09-16T11:12:11.945947Z",
     "shell.execute_reply": "2024-09-16T11:12:11.944766Z"
    },
    "papermill": {
     "duration": 0.037935,
     "end_time": "2024-09-16T11:12:11.948878",
     "exception": false,
     "start_time": "2024-09-16T11:12:11.910943",
     "status": "completed"
    },
    "tags": []
   },
   "outputs": [],
   "source": [
    "final_df.dropna(inplace = True)"
   ]
  },
  {
   "cell_type": "code",
   "execution_count": 14,
   "id": "802ee3e8",
   "metadata": {
    "execution": {
     "iopub.execute_input": "2024-09-16T11:12:11.983584Z",
     "iopub.status.busy": "2024-09-16T11:12:11.983108Z",
     "iopub.status.idle": "2024-09-16T11:12:12.094730Z",
     "shell.execute_reply": "2024-09-16T11:12:12.093264Z"
    },
    "papermill": {
     "duration": 0.132707,
     "end_time": "2024-09-16T11:12:12.097844",
     "exception": false,
     "start_time": "2024-09-16T11:12:11.965137",
     "status": "completed"
    },
    "tags": []
   },
   "outputs": [
    {
     "data": {
      "text/plain": [
       "0"
      ]
     },
     "execution_count": 14,
     "metadata": {},
     "output_type": "execute_result"
    }
   ],
   "source": [
    "# Checking for total duplicate values\n",
    "final_df.duplicated().sum()"
   ]
  },
  {
   "cell_type": "code",
   "execution_count": 15,
   "id": "a354713c",
   "metadata": {
    "execution": {
     "iopub.execute_input": "2024-09-16T11:12:12.133245Z",
     "iopub.status.busy": "2024-09-16T11:12:12.132743Z",
     "iopub.status.idle": "2024-09-16T11:12:12.141834Z",
     "shell.execute_reply": "2024-09-16T11:12:12.140468Z"
    },
    "papermill": {
     "duration": 0.030283,
     "end_time": "2024-09-16T11:12:12.144644",
     "exception": false,
     "start_time": "2024-09-16T11:12:12.114361",
     "status": "completed"
    },
    "tags": []
   },
   "outputs": [
    {
     "data": {
      "text/plain": [
       "'[{\"id\": 28, \"name\": \"Action\"}, {\"id\": 12, \"name\": \"Adventure\"}, {\"id\": 14, \"name\": \"Fantasy\"}, {\"id\": 878, \"name\": \"Science Fiction\"}]'"
      ]
     },
     "execution_count": 15,
     "metadata": {},
     "output_type": "execute_result"
    }
   ],
   "source": [
    "# Doing this to figure out that from where do I need to extract the info from the dictionary\n",
    "final_df.iloc[0].genres"
   ]
  },
  {
   "cell_type": "code",
   "execution_count": 16,
   "id": "b09091a7",
   "metadata": {
    "execution": {
     "iopub.execute_input": "2024-09-16T11:12:12.181423Z",
     "iopub.status.busy": "2024-09-16T11:12:12.180208Z",
     "iopub.status.idle": "2024-09-16T11:12:12.187146Z",
     "shell.execute_reply": "2024-09-16T11:12:12.185793Z"
    },
    "papermill": {
     "duration": 0.030142,
     "end_time": "2024-09-16T11:12:12.191049",
     "exception": false,
     "start_time": "2024-09-16T11:12:12.160907",
     "status": "completed"
    },
    "tags": []
   },
   "outputs": [],
   "source": [
    "import ast\n",
    "def convert(string):\n",
    "    L = []\n",
    "    for i in ast.literal_eval(string):\n",
    "        L.append(i['name'])\n",
    "    return L"
   ]
  },
  {
   "cell_type": "code",
   "execution_count": 17,
   "id": "eaa68bcb",
   "metadata": {
    "execution": {
     "iopub.execute_input": "2024-09-16T11:12:12.226331Z",
     "iopub.status.busy": "2024-09-16T11:12:12.225869Z",
     "iopub.status.idle": "2024-09-16T11:12:13.064440Z",
     "shell.execute_reply": "2024-09-16T11:12:13.062825Z"
    },
    "papermill": {
     "duration": 0.860184,
     "end_time": "2024-09-16T11:12:13.067970",
     "exception": false,
     "start_time": "2024-09-16T11:12:12.207786",
     "status": "completed"
    },
    "tags": []
   },
   "outputs": [],
   "source": [
    "final_df['genres'] = final_df['genres'].apply(convert)\n",
    "final_df['keywords'] = final_df['keywords'].apply(convert)"
   ]
  },
  {
   "cell_type": "code",
   "execution_count": 18,
   "id": "b91fc276",
   "metadata": {
    "execution": {
     "iopub.execute_input": "2024-09-16T11:12:13.109216Z",
     "iopub.status.busy": "2024-09-16T11:12:13.108630Z",
     "iopub.status.idle": "2024-09-16T11:12:13.116952Z",
     "shell.execute_reply": "2024-09-16T11:12:13.115603Z"
    },
    "papermill": {
     "duration": 0.030062,
     "end_time": "2024-09-16T11:12:13.119700",
     "exception": false,
     "start_time": "2024-09-16T11:12:13.089638",
     "status": "completed"
    },
    "tags": []
   },
   "outputs": [],
   "source": [
    "def convert_cast(string):\n",
    "    L = []\n",
    "    counter = 0\n",
    "    for i in ast.literal_eval(string):\n",
    "        if counter != 3:\n",
    "            L.append(i['name'])\n",
    "            counter += 1\n",
    "        else:\n",
    "            break \n",
    "    return L"
   ]
  },
  {
   "cell_type": "code",
   "execution_count": 19,
   "id": "518e73b0",
   "metadata": {
    "execution": {
     "iopub.execute_input": "2024-09-16T11:12:13.156575Z",
     "iopub.status.busy": "2024-09-16T11:12:13.155990Z",
     "iopub.status.idle": "2024-09-16T11:12:17.435832Z",
     "shell.execute_reply": "2024-09-16T11:12:17.434391Z"
    },
    "papermill": {
     "duration": 4.302306,
     "end_time": "2024-09-16T11:12:17.439294",
     "exception": false,
     "start_time": "2024-09-16T11:12:13.136988",
     "status": "completed"
    },
    "tags": []
   },
   "outputs": [],
   "source": [
    "final_df['cast'] = final_df['cast'].apply(convert_cast)"
   ]
  },
  {
   "cell_type": "code",
   "execution_count": 20,
   "id": "966e8275",
   "metadata": {
    "execution": {
     "iopub.execute_input": "2024-09-16T11:12:17.476560Z",
     "iopub.status.busy": "2024-09-16T11:12:17.476134Z",
     "iopub.status.idle": "2024-09-16T11:12:17.482586Z",
     "shell.execute_reply": "2024-09-16T11:12:17.481307Z"
    },
    "papermill": {
     "duration": 0.026196,
     "end_time": "2024-09-16T11:12:17.484888",
     "exception": false,
     "start_time": "2024-09-16T11:12:17.458692",
     "status": "completed"
    },
    "tags": []
   },
   "outputs": [],
   "source": [
    "def convert_crew(string):\n",
    "    L = []\n",
    "    for i in ast.literal_eval(string):\n",
    "        if i['job'] == 'Director':\n",
    "            L.append(i['name'])\n",
    "        else:\n",
    "            pass\n",
    "    return L"
   ]
  },
  {
   "cell_type": "code",
   "execution_count": 21,
   "id": "8956b099",
   "metadata": {
    "execution": {
     "iopub.execute_input": "2024-09-16T11:12:17.519363Z",
     "iopub.status.busy": "2024-09-16T11:12:17.518871Z",
     "iopub.status.idle": "2024-09-16T11:12:22.251212Z",
     "shell.execute_reply": "2024-09-16T11:12:22.249879Z"
    },
    "papermill": {
     "duration": 4.75261,
     "end_time": "2024-09-16T11:12:22.254135",
     "exception": false,
     "start_time": "2024-09-16T11:12:17.501525",
     "status": "completed"
    },
    "tags": []
   },
   "outputs": [],
   "source": [
    "final_df['crew'] = final_df['crew'].apply(convert_crew)"
   ]
  },
  {
   "cell_type": "code",
   "execution_count": 22,
   "id": "8caab8e7",
   "metadata": {
    "execution": {
     "iopub.execute_input": "2024-09-16T11:12:22.290786Z",
     "iopub.status.busy": "2024-09-16T11:12:22.290288Z",
     "iopub.status.idle": "2024-09-16T11:12:22.342609Z",
     "shell.execute_reply": "2024-09-16T11:12:22.341508Z"
    },
    "papermill": {
     "duration": 0.074043,
     "end_time": "2024-09-16T11:12:22.345557",
     "exception": false,
     "start_time": "2024-09-16T11:12:22.271514",
     "status": "completed"
    },
    "tags": []
   },
   "outputs": [],
   "source": [
    "final_df['overview'] = final_df['overview'].apply(lambda x : x.split())"
   ]
  },
  {
   "cell_type": "code",
   "execution_count": 23,
   "id": "12dfe1cd",
   "metadata": {
    "execution": {
     "iopub.execute_input": "2024-09-16T11:12:22.379568Z",
     "iopub.status.busy": "2024-09-16T11:12:22.379093Z",
     "iopub.status.idle": "2024-09-16T11:12:22.432171Z",
     "shell.execute_reply": "2024-09-16T11:12:22.431063Z"
    },
    "papermill": {
     "duration": 0.073333,
     "end_time": "2024-09-16T11:12:22.434974",
     "exception": false,
     "start_time": "2024-09-16T11:12:22.361641",
     "status": "completed"
    },
    "tags": []
   },
   "outputs": [],
   "source": [
    "final_df['genres'] = final_df['genres'].apply(lambda x:[i.replace(\" \", \"\") for i in x])\n",
    "final_df['keywords'] = final_df['keywords'].apply(lambda x:[i.replace(\" \", \"\") for i in x])\n",
    "final_df['cast'] = final_df['cast'].apply(lambda x:[i.replace(\" \", \"\") for i in x])\n",
    "final_df['crew'] = final_df['crew'].apply(lambda x:[i.replace(\" \", \"\") for i in x])"
   ]
  },
  {
   "cell_type": "code",
   "execution_count": 24,
   "id": "8b31884c",
   "metadata": {
    "execution": {
     "iopub.execute_input": "2024-09-16T11:12:22.472430Z",
     "iopub.status.busy": "2024-09-16T11:12:22.471946Z",
     "iopub.status.idle": "2024-09-16T11:12:22.640927Z",
     "shell.execute_reply": "2024-09-16T11:12:22.639759Z"
    },
    "papermill": {
     "duration": 0.192806,
     "end_time": "2024-09-16T11:12:22.643747",
     "exception": false,
     "start_time": "2024-09-16T11:12:22.450941",
     "status": "completed"
    },
    "tags": []
   },
   "outputs": [],
   "source": [
    "final_df['movie_tags'] = final_df[\"overview\"] + final_df[\"genres\"] + final_df[\"keywords\"] + final_df[\"cast\"] + final_df[\"crew\"]"
   ]
  },
  {
   "cell_type": "code",
   "execution_count": 25,
   "id": "769ccd92",
   "metadata": {
    "execution": {
     "iopub.execute_input": "2024-09-16T11:12:22.679509Z",
     "iopub.status.busy": "2024-09-16T11:12:22.679015Z",
     "iopub.status.idle": "2024-09-16T11:12:22.716273Z",
     "shell.execute_reply": "2024-09-16T11:12:22.714933Z"
    },
    "papermill": {
     "duration": 0.058469,
     "end_time": "2024-09-16T11:12:22.718882",
     "exception": false,
     "start_time": "2024-09-16T11:12:22.660413",
     "status": "completed"
    },
    "tags": []
   },
   "outputs": [
    {
     "data": {
      "text/html": [
       "<div>\n",
       "<style scoped>\n",
       "    .dataframe tbody tr th:only-of-type {\n",
       "        vertical-align: middle;\n",
       "    }\n",
       "\n",
       "    .dataframe tbody tr th {\n",
       "        vertical-align: top;\n",
       "    }\n",
       "\n",
       "    .dataframe thead th {\n",
       "        text-align: right;\n",
       "    }\n",
       "</style>\n",
       "<table border=\"1\" class=\"dataframe\">\n",
       "  <thead>\n",
       "    <tr style=\"text-align: right;\">\n",
       "      <th></th>\n",
       "      <th>movie_id</th>\n",
       "      <th>title</th>\n",
       "      <th>overview</th>\n",
       "      <th>genres</th>\n",
       "      <th>keywords</th>\n",
       "      <th>cast</th>\n",
       "      <th>crew</th>\n",
       "      <th>year</th>\n",
       "      <th>movie_tags</th>\n",
       "    </tr>\n",
       "  </thead>\n",
       "  <tbody>\n",
       "    <tr>\n",
       "      <th>0</th>\n",
       "      <td>19995</td>\n",
       "      <td>Avatar</td>\n",
       "      <td>[In, the, 22nd, century,, a, paraplegic, Marin...</td>\n",
       "      <td>[Action, Adventure, Fantasy, ScienceFiction]</td>\n",
       "      <td>[cultureclash, future, spacewar, spacecolony, ...</td>\n",
       "      <td>[SamWorthington, ZoeSaldana, SigourneyWeaver]</td>\n",
       "      <td>[JamesCameron]</td>\n",
       "      <td>2009.0</td>\n",
       "      <td>[In, the, 22nd, century,, a, paraplegic, Marin...</td>\n",
       "    </tr>\n",
       "    <tr>\n",
       "      <th>1</th>\n",
       "      <td>285</td>\n",
       "      <td>Pirates of the Caribbean: At World's End</td>\n",
       "      <td>[Captain, Barbossa,, long, believed, to, be, d...</td>\n",
       "      <td>[Adventure, Fantasy, Action]</td>\n",
       "      <td>[ocean, drugabuse, exoticisland, eastindiatrad...</td>\n",
       "      <td>[JohnnyDepp, OrlandoBloom, KeiraKnightley]</td>\n",
       "      <td>[GoreVerbinski]</td>\n",
       "      <td>2007.0</td>\n",
       "      <td>[Captain, Barbossa,, long, believed, to, be, d...</td>\n",
       "    </tr>\n",
       "    <tr>\n",
       "      <th>2</th>\n",
       "      <td>206647</td>\n",
       "      <td>Spectre</td>\n",
       "      <td>[A, cryptic, message, from, Bond’s, past, send...</td>\n",
       "      <td>[Action, Adventure, Crime]</td>\n",
       "      <td>[spy, basedonnovel, secretagent, sequel, mi6, ...</td>\n",
       "      <td>[DanielCraig, ChristophWaltz, LéaSeydoux]</td>\n",
       "      <td>[SamMendes]</td>\n",
       "      <td>2015.0</td>\n",
       "      <td>[A, cryptic, message, from, Bond’s, past, send...</td>\n",
       "    </tr>\n",
       "    <tr>\n",
       "      <th>3</th>\n",
       "      <td>49026</td>\n",
       "      <td>The Dark Knight Rises</td>\n",
       "      <td>[Following, the, death, of, District, Attorney...</td>\n",
       "      <td>[Action, Crime, Drama, Thriller]</td>\n",
       "      <td>[dccomics, crimefighter, terrorist, secretiden...</td>\n",
       "      <td>[ChristianBale, MichaelCaine, GaryOldman]</td>\n",
       "      <td>[ChristopherNolan]</td>\n",
       "      <td>2012.0</td>\n",
       "      <td>[Following, the, death, of, District, Attorney...</td>\n",
       "    </tr>\n",
       "    <tr>\n",
       "      <th>4</th>\n",
       "      <td>49529</td>\n",
       "      <td>John Carter</td>\n",
       "      <td>[John, Carter, is, a, war-weary,, former, mili...</td>\n",
       "      <td>[Action, Adventure, ScienceFiction]</td>\n",
       "      <td>[basedonnovel, mars, medallion, spacetravel, p...</td>\n",
       "      <td>[TaylorKitsch, LynnCollins, SamanthaMorton]</td>\n",
       "      <td>[AndrewStanton]</td>\n",
       "      <td>2012.0</td>\n",
       "      <td>[John, Carter, is, a, war-weary,, former, mili...</td>\n",
       "    </tr>\n",
       "  </tbody>\n",
       "</table>\n",
       "</div>"
      ],
      "text/plain": [
       "   movie_id                                     title  \\\n",
       "0     19995                                    Avatar   \n",
       "1       285  Pirates of the Caribbean: At World's End   \n",
       "2    206647                                   Spectre   \n",
       "3     49026                     The Dark Knight Rises   \n",
       "4     49529                               John Carter   \n",
       "\n",
       "                                            overview  \\\n",
       "0  [In, the, 22nd, century,, a, paraplegic, Marin...   \n",
       "1  [Captain, Barbossa,, long, believed, to, be, d...   \n",
       "2  [A, cryptic, message, from, Bond’s, past, send...   \n",
       "3  [Following, the, death, of, District, Attorney...   \n",
       "4  [John, Carter, is, a, war-weary,, former, mili...   \n",
       "\n",
       "                                         genres  \\\n",
       "0  [Action, Adventure, Fantasy, ScienceFiction]   \n",
       "1                  [Adventure, Fantasy, Action]   \n",
       "2                    [Action, Adventure, Crime]   \n",
       "3              [Action, Crime, Drama, Thriller]   \n",
       "4           [Action, Adventure, ScienceFiction]   \n",
       "\n",
       "                                            keywords  \\\n",
       "0  [cultureclash, future, spacewar, spacecolony, ...   \n",
       "1  [ocean, drugabuse, exoticisland, eastindiatrad...   \n",
       "2  [spy, basedonnovel, secretagent, sequel, mi6, ...   \n",
       "3  [dccomics, crimefighter, terrorist, secretiden...   \n",
       "4  [basedonnovel, mars, medallion, spacetravel, p...   \n",
       "\n",
       "                                            cast                crew    year  \\\n",
       "0  [SamWorthington, ZoeSaldana, SigourneyWeaver]      [JamesCameron]  2009.0   \n",
       "1     [JohnnyDepp, OrlandoBloom, KeiraKnightley]     [GoreVerbinski]  2007.0   \n",
       "2      [DanielCraig, ChristophWaltz, LéaSeydoux]         [SamMendes]  2015.0   \n",
       "3      [ChristianBale, MichaelCaine, GaryOldman]  [ChristopherNolan]  2012.0   \n",
       "4    [TaylorKitsch, LynnCollins, SamanthaMorton]     [AndrewStanton]  2012.0   \n",
       "\n",
       "                                          movie_tags  \n",
       "0  [In, the, 22nd, century,, a, paraplegic, Marin...  \n",
       "1  [Captain, Barbossa,, long, believed, to, be, d...  \n",
       "2  [A, cryptic, message, from, Bond’s, past, send...  \n",
       "3  [Following, the, death, of, District, Attorney...  \n",
       "4  [John, Carter, is, a, war-weary,, former, mili...  "
      ]
     },
     "execution_count": 25,
     "metadata": {},
     "output_type": "execute_result"
    }
   ],
   "source": [
    "final_df.head()"
   ]
  },
  {
   "cell_type": "code",
   "execution_count": 26,
   "id": "15b64b8c",
   "metadata": {
    "execution": {
     "iopub.execute_input": "2024-09-16T11:12:22.754067Z",
     "iopub.status.busy": "2024-09-16T11:12:22.753621Z",
     "iopub.status.idle": "2024-09-16T11:12:22.761826Z",
     "shell.execute_reply": "2024-09-16T11:12:22.760526Z"
    },
    "papermill": {
     "duration": 0.029288,
     "end_time": "2024-09-16T11:12:22.764844",
     "exception": false,
     "start_time": "2024-09-16T11:12:22.735556",
     "status": "completed"
    },
    "tags": []
   },
   "outputs": [],
   "source": [
    "final_df = final_df[['movie_id', 'title', 'year', 'movie_tags']]"
   ]
  },
  {
   "cell_type": "code",
   "execution_count": 27,
   "id": "d8074322",
   "metadata": {
    "execution": {
     "iopub.execute_input": "2024-09-16T11:12:22.800070Z",
     "iopub.status.busy": "2024-09-16T11:12:22.799628Z",
     "iopub.status.idle": "2024-09-16T11:12:22.826154Z",
     "shell.execute_reply": "2024-09-16T11:12:22.824906Z"
    },
    "papermill": {
     "duration": 0.047199,
     "end_time": "2024-09-16T11:12:22.829107",
     "exception": false,
     "start_time": "2024-09-16T11:12:22.781908",
     "status": "completed"
    },
    "tags": []
   },
   "outputs": [],
   "source": [
    "final_df['movie_tags'] = final_df['movie_tags'].apply(lambda x : \" \".join(x))"
   ]
  },
  {
   "cell_type": "code",
   "execution_count": 28,
   "id": "d6f3d524",
   "metadata": {
    "execution": {
     "iopub.execute_input": "2024-09-16T11:12:22.864979Z",
     "iopub.status.busy": "2024-09-16T11:12:22.864505Z",
     "iopub.status.idle": "2024-09-16T11:12:22.880411Z",
     "shell.execute_reply": "2024-09-16T11:12:22.879048Z"
    },
    "papermill": {
     "duration": 0.037641,
     "end_time": "2024-09-16T11:12:22.883322",
     "exception": false,
     "start_time": "2024-09-16T11:12:22.845681",
     "status": "completed"
    },
    "tags": []
   },
   "outputs": [
    {
     "data": {
      "text/html": [
       "<div>\n",
       "<style scoped>\n",
       "    .dataframe tbody tr th:only-of-type {\n",
       "        vertical-align: middle;\n",
       "    }\n",
       "\n",
       "    .dataframe tbody tr th {\n",
       "        vertical-align: top;\n",
       "    }\n",
       "\n",
       "    .dataframe thead th {\n",
       "        text-align: right;\n",
       "    }\n",
       "</style>\n",
       "<table border=\"1\" class=\"dataframe\">\n",
       "  <thead>\n",
       "    <tr style=\"text-align: right;\">\n",
       "      <th></th>\n",
       "      <th>movie_id</th>\n",
       "      <th>title</th>\n",
       "      <th>year</th>\n",
       "      <th>movie_tags</th>\n",
       "    </tr>\n",
       "  </thead>\n",
       "  <tbody>\n",
       "    <tr>\n",
       "      <th>0</th>\n",
       "      <td>19995</td>\n",
       "      <td>Avatar</td>\n",
       "      <td>2009.0</td>\n",
       "      <td>In the 22nd century, a paraplegic Marine is di...</td>\n",
       "    </tr>\n",
       "    <tr>\n",
       "      <th>1</th>\n",
       "      <td>285</td>\n",
       "      <td>Pirates of the Caribbean: At World's End</td>\n",
       "      <td>2007.0</td>\n",
       "      <td>Captain Barbossa, long believed to be dead, ha...</td>\n",
       "    </tr>\n",
       "    <tr>\n",
       "      <th>2</th>\n",
       "      <td>206647</td>\n",
       "      <td>Spectre</td>\n",
       "      <td>2015.0</td>\n",
       "      <td>A cryptic message from Bond’s past sends him o...</td>\n",
       "    </tr>\n",
       "    <tr>\n",
       "      <th>3</th>\n",
       "      <td>49026</td>\n",
       "      <td>The Dark Knight Rises</td>\n",
       "      <td>2012.0</td>\n",
       "      <td>Following the death of District Attorney Harve...</td>\n",
       "    </tr>\n",
       "    <tr>\n",
       "      <th>4</th>\n",
       "      <td>49529</td>\n",
       "      <td>John Carter</td>\n",
       "      <td>2012.0</td>\n",
       "      <td>John Carter is a war-weary, former military ca...</td>\n",
       "    </tr>\n",
       "  </tbody>\n",
       "</table>\n",
       "</div>"
      ],
      "text/plain": [
       "   movie_id                                     title    year  \\\n",
       "0     19995                                    Avatar  2009.0   \n",
       "1       285  Pirates of the Caribbean: At World's End  2007.0   \n",
       "2    206647                                   Spectre  2015.0   \n",
       "3     49026                     The Dark Knight Rises  2012.0   \n",
       "4     49529                               John Carter  2012.0   \n",
       "\n",
       "                                          movie_tags  \n",
       "0  In the 22nd century, a paraplegic Marine is di...  \n",
       "1  Captain Barbossa, long believed to be dead, ha...  \n",
       "2  A cryptic message from Bond’s past sends him o...  \n",
       "3  Following the death of District Attorney Harve...  \n",
       "4  John Carter is a war-weary, former military ca...  "
      ]
     },
     "execution_count": 28,
     "metadata": {},
     "output_type": "execute_result"
    }
   ],
   "source": [
    "final_df.head()"
   ]
  },
  {
   "cell_type": "code",
   "execution_count": 29,
   "id": "09b46f4a",
   "metadata": {
    "execution": {
     "iopub.execute_input": "2024-09-16T11:12:22.918659Z",
     "iopub.status.busy": "2024-09-16T11:12:22.918154Z",
     "iopub.status.idle": "2024-09-16T11:12:22.940376Z",
     "shell.execute_reply": "2024-09-16T11:12:22.939191Z"
    },
    "papermill": {
     "duration": 0.042894,
     "end_time": "2024-09-16T11:12:22.943012",
     "exception": false,
     "start_time": "2024-09-16T11:12:22.900118",
     "status": "completed"
    },
    "tags": []
   },
   "outputs": [],
   "source": [
    "final_df['title'] = final_df['title'].apply(lambda x : x.lower())\n",
    "final_df['movie_tags'] = final_df['movie_tags'].apply(lambda x : x.lower())"
   ]
  },
  {
   "cell_type": "code",
   "execution_count": 30,
   "id": "1585d684",
   "metadata": {
    "execution": {
     "iopub.execute_input": "2024-09-16T11:12:22.978588Z",
     "iopub.status.busy": "2024-09-16T11:12:22.978099Z",
     "iopub.status.idle": "2024-09-16T11:12:22.994259Z",
     "shell.execute_reply": "2024-09-16T11:12:22.993149Z"
    },
    "papermill": {
     "duration": 0.037201,
     "end_time": "2024-09-16T11:12:22.996926",
     "exception": false,
     "start_time": "2024-09-16T11:12:22.959725",
     "status": "completed"
    },
    "tags": []
   },
   "outputs": [
    {
     "data": {
      "text/html": [
       "<div>\n",
       "<style scoped>\n",
       "    .dataframe tbody tr th:only-of-type {\n",
       "        vertical-align: middle;\n",
       "    }\n",
       "\n",
       "    .dataframe tbody tr th {\n",
       "        vertical-align: top;\n",
       "    }\n",
       "\n",
       "    .dataframe thead th {\n",
       "        text-align: right;\n",
       "    }\n",
       "</style>\n",
       "<table border=\"1\" class=\"dataframe\">\n",
       "  <thead>\n",
       "    <tr style=\"text-align: right;\">\n",
       "      <th></th>\n",
       "      <th>movie_id</th>\n",
       "      <th>title</th>\n",
       "      <th>year</th>\n",
       "      <th>movie_tags</th>\n",
       "    </tr>\n",
       "  </thead>\n",
       "  <tbody>\n",
       "    <tr>\n",
       "      <th>0</th>\n",
       "      <td>19995</td>\n",
       "      <td>avatar</td>\n",
       "      <td>2009.0</td>\n",
       "      <td>in the 22nd century, a paraplegic marine is di...</td>\n",
       "    </tr>\n",
       "    <tr>\n",
       "      <th>1</th>\n",
       "      <td>285</td>\n",
       "      <td>pirates of the caribbean: at world's end</td>\n",
       "      <td>2007.0</td>\n",
       "      <td>captain barbossa, long believed to be dead, ha...</td>\n",
       "    </tr>\n",
       "    <tr>\n",
       "      <th>2</th>\n",
       "      <td>206647</td>\n",
       "      <td>spectre</td>\n",
       "      <td>2015.0</td>\n",
       "      <td>a cryptic message from bond’s past sends him o...</td>\n",
       "    </tr>\n",
       "    <tr>\n",
       "      <th>3</th>\n",
       "      <td>49026</td>\n",
       "      <td>the dark knight rises</td>\n",
       "      <td>2012.0</td>\n",
       "      <td>following the death of district attorney harve...</td>\n",
       "    </tr>\n",
       "    <tr>\n",
       "      <th>4</th>\n",
       "      <td>49529</td>\n",
       "      <td>john carter</td>\n",
       "      <td>2012.0</td>\n",
       "      <td>john carter is a war-weary, former military ca...</td>\n",
       "    </tr>\n",
       "    <tr>\n",
       "      <th>...</th>\n",
       "      <td>...</td>\n",
       "      <td>...</td>\n",
       "      <td>...</td>\n",
       "      <td>...</td>\n",
       "    </tr>\n",
       "    <tr>\n",
       "      <th>4804</th>\n",
       "      <td>9367</td>\n",
       "      <td>el mariachi</td>\n",
       "      <td>1992.0</td>\n",
       "      <td>el mariachi just wants to play his guitar and ...</td>\n",
       "    </tr>\n",
       "    <tr>\n",
       "      <th>4805</th>\n",
       "      <td>72766</td>\n",
       "      <td>newlyweds</td>\n",
       "      <td>2011.0</td>\n",
       "      <td>a newlywed couple's honeymoon is upended by th...</td>\n",
       "    </tr>\n",
       "    <tr>\n",
       "      <th>4806</th>\n",
       "      <td>231617</td>\n",
       "      <td>signed, sealed, delivered</td>\n",
       "      <td>2013.0</td>\n",
       "      <td>\"signed, sealed, delivered\" introduces a dedic...</td>\n",
       "    </tr>\n",
       "    <tr>\n",
       "      <th>4807</th>\n",
       "      <td>126186</td>\n",
       "      <td>shanghai calling</td>\n",
       "      <td>2012.0</td>\n",
       "      <td>when ambitious new york attorney sam is sent t...</td>\n",
       "    </tr>\n",
       "    <tr>\n",
       "      <th>4808</th>\n",
       "      <td>25975</td>\n",
       "      <td>my date with drew</td>\n",
       "      <td>2005.0</td>\n",
       "      <td>ever since the second grade when he first saw ...</td>\n",
       "    </tr>\n",
       "  </tbody>\n",
       "</table>\n",
       "<p>4805 rows × 4 columns</p>\n",
       "</div>"
      ],
      "text/plain": [
       "      movie_id                                     title    year  \\\n",
       "0        19995                                    avatar  2009.0   \n",
       "1          285  pirates of the caribbean: at world's end  2007.0   \n",
       "2       206647                                   spectre  2015.0   \n",
       "3        49026                     the dark knight rises  2012.0   \n",
       "4        49529                               john carter  2012.0   \n",
       "...        ...                                       ...     ...   \n",
       "4804      9367                               el mariachi  1992.0   \n",
       "4805     72766                                 newlyweds  2011.0   \n",
       "4806    231617                 signed, sealed, delivered  2013.0   \n",
       "4807    126186                          shanghai calling  2012.0   \n",
       "4808     25975                         my date with drew  2005.0   \n",
       "\n",
       "                                             movie_tags  \n",
       "0     in the 22nd century, a paraplegic marine is di...  \n",
       "1     captain barbossa, long believed to be dead, ha...  \n",
       "2     a cryptic message from bond’s past sends him o...  \n",
       "3     following the death of district attorney harve...  \n",
       "4     john carter is a war-weary, former military ca...  \n",
       "...                                                 ...  \n",
       "4804  el mariachi just wants to play his guitar and ...  \n",
       "4805  a newlywed couple's honeymoon is upended by th...  \n",
       "4806  \"signed, sealed, delivered\" introduces a dedic...  \n",
       "4807  when ambitious new york attorney sam is sent t...  \n",
       "4808  ever since the second grade when he first saw ...  \n",
       "\n",
       "[4805 rows x 4 columns]"
      ]
     },
     "execution_count": 30,
     "metadata": {},
     "output_type": "execute_result"
    }
   ],
   "source": [
    "final_df"
   ]
  },
  {
   "cell_type": "markdown",
   "id": "b68fb479",
   "metadata": {
    "papermill": {
     "duration": 0.016663,
     "end_time": "2024-09-16T11:12:23.030690",
     "exception": false,
     "start_time": "2024-09-16T11:12:23.014027",
     "status": "completed"
    },
    "tags": []
   },
   "source": [
    "# Vectorization Using Bag of Words"
   ]
  },
  {
   "cell_type": "code",
   "execution_count": 31,
   "id": "52a01b2d",
   "metadata": {
    "execution": {
     "iopub.execute_input": "2024-09-16T11:12:23.066851Z",
     "iopub.status.busy": "2024-09-16T11:12:23.066425Z",
     "iopub.status.idle": "2024-09-16T11:12:24.452097Z",
     "shell.execute_reply": "2024-09-16T11:12:24.450811Z"
    },
    "papermill": {
     "duration": 1.407585,
     "end_time": "2024-09-16T11:12:24.455439",
     "exception": false,
     "start_time": "2024-09-16T11:12:23.047854",
     "status": "completed"
    },
    "tags": []
   },
   "outputs": [],
   "source": [
    "from sklearn.feature_extraction.text import CountVectorizer"
   ]
  },
  {
   "cell_type": "code",
   "execution_count": 32,
   "id": "c39f69ee",
   "metadata": {
    "execution": {
     "iopub.execute_input": "2024-09-16T11:12:24.493957Z",
     "iopub.status.busy": "2024-09-16T11:12:24.493281Z",
     "iopub.status.idle": "2024-09-16T11:12:24.499480Z",
     "shell.execute_reply": "2024-09-16T11:12:24.498241Z"
    },
    "papermill": {
     "duration": 0.027526,
     "end_time": "2024-09-16T11:12:24.502051",
     "exception": false,
     "start_time": "2024-09-16T11:12:24.474525",
     "status": "completed"
    },
    "tags": []
   },
   "outputs": [],
   "source": [
    "cv = CountVectorizer(max_features = 5000, stop_words = 'english')"
   ]
  },
  {
   "cell_type": "code",
   "execution_count": 33,
   "id": "481a7849",
   "metadata": {
    "execution": {
     "iopub.execute_input": "2024-09-16T11:12:24.537997Z",
     "iopub.status.busy": "2024-09-16T11:12:24.537537Z",
     "iopub.status.idle": "2024-09-16T11:12:25.286103Z",
     "shell.execute_reply": "2024-09-16T11:12:25.284686Z"
    },
    "papermill": {
     "duration": 0.769903,
     "end_time": "2024-09-16T11:12:25.288971",
     "exception": false,
     "start_time": "2024-09-16T11:12:24.519068",
     "status": "completed"
    },
    "tags": []
   },
   "outputs": [],
   "source": [
    "vectors = cv.fit_transform(final_df['movie_tags']).toarray()"
   ]
  },
  {
   "cell_type": "code",
   "execution_count": 34,
   "id": "8324cc81",
   "metadata": {
    "execution": {
     "iopub.execute_input": "2024-09-16T11:12:25.326500Z",
     "iopub.status.busy": "2024-09-16T11:12:25.325987Z",
     "iopub.status.idle": "2024-09-16T11:12:25.341302Z",
     "shell.execute_reply": "2024-09-16T11:12:25.340113Z"
    },
    "papermill": {
     "duration": 0.038074,
     "end_time": "2024-09-16T11:12:25.344070",
     "exception": false,
     "start_time": "2024-09-16T11:12:25.305996",
     "status": "completed"
    },
    "tags": []
   },
   "outputs": [
    {
     "data": {
      "text/plain": [
       "array(['000', '007', '10', ..., 'zone', 'zoo', 'zooeydeschanel'],\n",
       "      dtype=object)"
      ]
     },
     "execution_count": 34,
     "metadata": {},
     "output_type": "execute_result"
    }
   ],
   "source": [
    "cv.get_feature_names_out()"
   ]
  },
  {
   "cell_type": "markdown",
   "id": "84661bb6",
   "metadata": {
    "papermill": {
     "duration": 0.075702,
     "end_time": "2024-09-16T11:12:25.436944",
     "exception": false,
     "start_time": "2024-09-16T11:12:25.361242",
     "status": "completed"
    },
    "tags": []
   },
   "source": [
    "## Applying Stemming"
   ]
  },
  {
   "cell_type": "code",
   "execution_count": 35,
   "id": "33b62950",
   "metadata": {
    "execution": {
     "iopub.execute_input": "2024-09-16T11:12:25.474062Z",
     "iopub.status.busy": "2024-09-16T11:12:25.473599Z",
     "iopub.status.idle": "2024-09-16T11:12:26.364411Z",
     "shell.execute_reply": "2024-09-16T11:12:26.363241Z"
    },
    "papermill": {
     "duration": 0.912996,
     "end_time": "2024-09-16T11:12:26.367285",
     "exception": false,
     "start_time": "2024-09-16T11:12:25.454289",
     "status": "completed"
    },
    "tags": []
   },
   "outputs": [],
   "source": [
    "import nltk "
   ]
  },
  {
   "cell_type": "code",
   "execution_count": 36,
   "id": "03f331d4",
   "metadata": {
    "execution": {
     "iopub.execute_input": "2024-09-16T11:12:26.404498Z",
     "iopub.status.busy": "2024-09-16T11:12:26.404003Z",
     "iopub.status.idle": "2024-09-16T11:12:26.409632Z",
     "shell.execute_reply": "2024-09-16T11:12:26.408423Z"
    },
    "papermill": {
     "duration": 0.027156,
     "end_time": "2024-09-16T11:12:26.412163",
     "exception": false,
     "start_time": "2024-09-16T11:12:26.385007",
     "status": "completed"
    },
    "tags": []
   },
   "outputs": [],
   "source": [
    "from nltk.stem.porter import PorterStemmer\n",
    "ps = PorterStemmer()"
   ]
  },
  {
   "cell_type": "code",
   "execution_count": 37,
   "id": "7b069f9b",
   "metadata": {
    "execution": {
     "iopub.execute_input": "2024-09-16T11:12:26.448919Z",
     "iopub.status.busy": "2024-09-16T11:12:26.448466Z",
     "iopub.status.idle": "2024-09-16T11:12:26.455662Z",
     "shell.execute_reply": "2024-09-16T11:12:26.453945Z"
    },
    "papermill": {
     "duration": 0.028854,
     "end_time": "2024-09-16T11:12:26.458363",
     "exception": false,
     "start_time": "2024-09-16T11:12:26.429509",
     "status": "completed"
    },
    "tags": []
   },
   "outputs": [],
   "source": [
    "def stem(text):\n",
    "    l = []\n",
    "    for i in text.split():\n",
    "        l.append(ps.stem(i))\n",
    "    return \" \".join(l)"
   ]
  },
  {
   "cell_type": "code",
   "execution_count": 38,
   "id": "545b84b2",
   "metadata": {
    "execution": {
     "iopub.execute_input": "2024-09-16T11:12:26.495997Z",
     "iopub.status.busy": "2024-09-16T11:12:26.495547Z",
     "iopub.status.idle": "2024-09-16T11:12:37.155399Z",
     "shell.execute_reply": "2024-09-16T11:12:37.154116Z"
    },
    "papermill": {
     "duration": 10.683125,
     "end_time": "2024-09-16T11:12:37.158440",
     "exception": false,
     "start_time": "2024-09-16T11:12:26.475315",
     "status": "completed"
    },
    "tags": []
   },
   "outputs": [],
   "source": [
    "final_df['movie_tags'] = final_df['movie_tags'].apply(stem)"
   ]
  },
  {
   "cell_type": "code",
   "execution_count": 39,
   "id": "02b8a27f",
   "metadata": {
    "execution": {
     "iopub.execute_input": "2024-09-16T11:12:37.195192Z",
     "iopub.status.busy": "2024-09-16T11:12:37.194744Z",
     "iopub.status.idle": "2024-09-16T11:12:37.210473Z",
     "shell.execute_reply": "2024-09-16T11:12:37.209128Z"
    },
    "papermill": {
     "duration": 0.03772,
     "end_time": "2024-09-16T11:12:37.213398",
     "exception": false,
     "start_time": "2024-09-16T11:12:37.175678",
     "status": "completed"
    },
    "tags": []
   },
   "outputs": [
    {
     "data": {
      "text/html": [
       "<div>\n",
       "<style scoped>\n",
       "    .dataframe tbody tr th:only-of-type {\n",
       "        vertical-align: middle;\n",
       "    }\n",
       "\n",
       "    .dataframe tbody tr th {\n",
       "        vertical-align: top;\n",
       "    }\n",
       "\n",
       "    .dataframe thead th {\n",
       "        text-align: right;\n",
       "    }\n",
       "</style>\n",
       "<table border=\"1\" class=\"dataframe\">\n",
       "  <thead>\n",
       "    <tr style=\"text-align: right;\">\n",
       "      <th></th>\n",
       "      <th>movie_id</th>\n",
       "      <th>title</th>\n",
       "      <th>year</th>\n",
       "      <th>movie_tags</th>\n",
       "    </tr>\n",
       "  </thead>\n",
       "  <tbody>\n",
       "    <tr>\n",
       "      <th>0</th>\n",
       "      <td>19995</td>\n",
       "      <td>avatar</td>\n",
       "      <td>2009.0</td>\n",
       "      <td>in the 22nd century, a parapleg marin is dispa...</td>\n",
       "    </tr>\n",
       "    <tr>\n",
       "      <th>1</th>\n",
       "      <td>285</td>\n",
       "      <td>pirates of the caribbean: at world's end</td>\n",
       "      <td>2007.0</td>\n",
       "      <td>captain barbossa, long believ to be dead, ha c...</td>\n",
       "    </tr>\n",
       "    <tr>\n",
       "      <th>2</th>\n",
       "      <td>206647</td>\n",
       "      <td>spectre</td>\n",
       "      <td>2015.0</td>\n",
       "      <td>a cryptic messag from bond’ past send him on a...</td>\n",
       "    </tr>\n",
       "    <tr>\n",
       "      <th>3</th>\n",
       "      <td>49026</td>\n",
       "      <td>the dark knight rises</td>\n",
       "      <td>2012.0</td>\n",
       "      <td>follow the death of district attorney harvey d...</td>\n",
       "    </tr>\n",
       "    <tr>\n",
       "      <th>4</th>\n",
       "      <td>49529</td>\n",
       "      <td>john carter</td>\n",
       "      <td>2012.0</td>\n",
       "      <td>john carter is a war-weary, former militari ca...</td>\n",
       "    </tr>\n",
       "    <tr>\n",
       "      <th>...</th>\n",
       "      <td>...</td>\n",
       "      <td>...</td>\n",
       "      <td>...</td>\n",
       "      <td>...</td>\n",
       "    </tr>\n",
       "    <tr>\n",
       "      <th>4804</th>\n",
       "      <td>9367</td>\n",
       "      <td>el mariachi</td>\n",
       "      <td>1992.0</td>\n",
       "      <td>el mariachi just want to play hi guitar and ca...</td>\n",
       "    </tr>\n",
       "    <tr>\n",
       "      <th>4805</th>\n",
       "      <td>72766</td>\n",
       "      <td>newlyweds</td>\n",
       "      <td>2011.0</td>\n",
       "      <td>a newlyw couple' honeymoon is upend by the arr...</td>\n",
       "    </tr>\n",
       "    <tr>\n",
       "      <th>4806</th>\n",
       "      <td>231617</td>\n",
       "      <td>signed, sealed, delivered</td>\n",
       "      <td>2013.0</td>\n",
       "      <td>\"signed, sealed, delivered\" introduc a dedic q...</td>\n",
       "    </tr>\n",
       "    <tr>\n",
       "      <th>4807</th>\n",
       "      <td>126186</td>\n",
       "      <td>shanghai calling</td>\n",
       "      <td>2012.0</td>\n",
       "      <td>when ambiti new york attorney sam is sent to s...</td>\n",
       "    </tr>\n",
       "    <tr>\n",
       "      <th>4808</th>\n",
       "      <td>25975</td>\n",
       "      <td>my date with drew</td>\n",
       "      <td>2005.0</td>\n",
       "      <td>ever sinc the second grade when he first saw h...</td>\n",
       "    </tr>\n",
       "  </tbody>\n",
       "</table>\n",
       "<p>4805 rows × 4 columns</p>\n",
       "</div>"
      ],
      "text/plain": [
       "      movie_id                                     title    year  \\\n",
       "0        19995                                    avatar  2009.0   \n",
       "1          285  pirates of the caribbean: at world's end  2007.0   \n",
       "2       206647                                   spectre  2015.0   \n",
       "3        49026                     the dark knight rises  2012.0   \n",
       "4        49529                               john carter  2012.0   \n",
       "...        ...                                       ...     ...   \n",
       "4804      9367                               el mariachi  1992.0   \n",
       "4805     72766                                 newlyweds  2011.0   \n",
       "4806    231617                 signed, sealed, delivered  2013.0   \n",
       "4807    126186                          shanghai calling  2012.0   \n",
       "4808     25975                         my date with drew  2005.0   \n",
       "\n",
       "                                             movie_tags  \n",
       "0     in the 22nd century, a parapleg marin is dispa...  \n",
       "1     captain barbossa, long believ to be dead, ha c...  \n",
       "2     a cryptic messag from bond’ past send him on a...  \n",
       "3     follow the death of district attorney harvey d...  \n",
       "4     john carter is a war-weary, former militari ca...  \n",
       "...                                                 ...  \n",
       "4804  el mariachi just want to play hi guitar and ca...  \n",
       "4805  a newlyw couple' honeymoon is upend by the arr...  \n",
       "4806  \"signed, sealed, delivered\" introduc a dedic q...  \n",
       "4807  when ambiti new york attorney sam is sent to s...  \n",
       "4808  ever sinc the second grade when he first saw h...  \n",
       "\n",
       "[4805 rows x 4 columns]"
      ]
     },
     "execution_count": 39,
     "metadata": {},
     "output_type": "execute_result"
    }
   ],
   "source": [
    "final_df"
   ]
  },
  {
   "cell_type": "code",
   "execution_count": 40,
   "id": "56ccd99e",
   "metadata": {
    "execution": {
     "iopub.execute_input": "2024-09-16T11:12:37.250321Z",
     "iopub.status.busy": "2024-09-16T11:12:37.249887Z",
     "iopub.status.idle": "2024-09-16T11:12:39.567920Z",
     "shell.execute_reply": "2024-09-16T11:12:39.566437Z"
    },
    "papermill": {
     "duration": 2.33997,
     "end_time": "2024-09-16T11:12:39.570830",
     "exception": false,
     "start_time": "2024-09-16T11:12:37.230860",
     "status": "completed"
    },
    "tags": []
   },
   "outputs": [
    {
     "data": {
      "text/plain": [
       "(4805,)"
      ]
     },
     "execution_count": 40,
     "metadata": {},
     "output_type": "execute_result"
    }
   ],
   "source": [
    "from sklearn.metrics.pairwise import cosine_similarity\n",
    "similarity = cosine_similarity(vectors)\n",
    "similarity[0].shape # This similarity array is a 4805 X 4805 array, similarity[0] tells about the cosime similarity of 1st movie with every other 4804 movies"
   ]
  },
  {
   "cell_type": "code",
   "execution_count": 41,
   "id": "31fff103",
   "metadata": {
    "execution": {
     "iopub.execute_input": "2024-09-16T11:12:39.610034Z",
     "iopub.status.busy": "2024-09-16T11:12:39.609591Z",
     "iopub.status.idle": "2024-09-16T11:12:39.623997Z",
     "shell.execute_reply": "2024-09-16T11:12:39.622675Z"
    },
    "papermill": {
     "duration": 0.038072,
     "end_time": "2024-09-16T11:12:39.627167",
     "exception": false,
     "start_time": "2024-09-16T11:12:39.589095",
     "status": "completed"
    },
    "tags": []
   },
   "outputs": [
    {
     "data": {
      "text/html": [
       "<div>\n",
       "<style scoped>\n",
       "    .dataframe tbody tr th:only-of-type {\n",
       "        vertical-align: middle;\n",
       "    }\n",
       "\n",
       "    .dataframe tbody tr th {\n",
       "        vertical-align: top;\n",
       "    }\n",
       "\n",
       "    .dataframe thead th {\n",
       "        text-align: right;\n",
       "    }\n",
       "</style>\n",
       "<table border=\"1\" class=\"dataframe\">\n",
       "  <thead>\n",
       "    <tr style=\"text-align: right;\">\n",
       "      <th></th>\n",
       "      <th>movie_id</th>\n",
       "      <th>title</th>\n",
       "      <th>year</th>\n",
       "      <th>movie_tags</th>\n",
       "    </tr>\n",
       "  </thead>\n",
       "  <tbody>\n",
       "    <tr>\n",
       "      <th>0</th>\n",
       "      <td>19995</td>\n",
       "      <td>avatar</td>\n",
       "      <td>2009.0</td>\n",
       "      <td>in the 22nd century, a parapleg marin is dispa...</td>\n",
       "    </tr>\n",
       "    <tr>\n",
       "      <th>1</th>\n",
       "      <td>285</td>\n",
       "      <td>pirates of the caribbean: at world's end</td>\n",
       "      <td>2007.0</td>\n",
       "      <td>captain barbossa, long believ to be dead, ha c...</td>\n",
       "    </tr>\n",
       "  </tbody>\n",
       "</table>\n",
       "</div>"
      ],
      "text/plain": [
       "   movie_id                                     title    year  \\\n",
       "0     19995                                    avatar  2009.0   \n",
       "1       285  pirates of the caribbean: at world's end  2007.0   \n",
       "\n",
       "                                          movie_tags  \n",
       "0  in the 22nd century, a parapleg marin is dispa...  \n",
       "1  captain barbossa, long believ to be dead, ha c...  "
      ]
     },
     "execution_count": 41,
     "metadata": {},
     "output_type": "execute_result"
    }
   ],
   "source": [
    "final_df.head(2)"
   ]
  },
  {
   "cell_type": "code",
   "execution_count": 42,
   "id": "3db85e38",
   "metadata": {
    "execution": {
     "iopub.execute_input": "2024-09-16T11:12:39.666612Z",
     "iopub.status.busy": "2024-09-16T11:12:39.666064Z",
     "iopub.status.idle": "2024-09-16T11:12:39.674205Z",
     "shell.execute_reply": "2024-09-16T11:12:39.672715Z"
    },
    "papermill": {
     "duration": 0.031265,
     "end_time": "2024-09-16T11:12:39.676933",
     "exception": false,
     "start_time": "2024-09-16T11:12:39.645668",
     "status": "completed"
    },
    "tags": []
   },
   "outputs": [],
   "source": [
    "# Logic of Recommender Fuction:\n",
    "# 1. Fetch the index of the movie\n",
    "# 2. Find out that movie's array from similarity matrix\n",
    "# 3. Sort the entries of that array so that the most similar movies are at the front\n",
    "# 4. Return the first 8 Similar movies\n",
    "\n",
    "def recommend(movie):\n",
    "    index = final_df[final_df['title'] == movie].index[0]\n",
    "    dist = similarity[index]\n",
    "    recommended_movies_list = sorted(list(enumerate(dist)), reverse = True, key = lambda x:x[1])[1:9]\n",
    "    for i in recommended_movies_list:\n",
    "        print(final_df.loc[i[0], 'title'])\n",
    "        "
   ]
  },
  {
   "cell_type": "code",
   "execution_count": 43,
   "id": "4a41207c",
   "metadata": {
    "execution": {
     "iopub.execute_input": "2024-09-16T11:12:39.715161Z",
     "iopub.status.busy": "2024-09-16T11:12:39.714662Z",
     "iopub.status.idle": "2024-09-16T11:12:39.731679Z",
     "shell.execute_reply": "2024-09-16T11:12:39.729633Z"
    },
    "papermill": {
     "duration": 0.040441,
     "end_time": "2024-09-16T11:12:39.735079",
     "exception": false,
     "start_time": "2024-09-16T11:12:39.694638",
     "status": "completed"
    },
    "tags": []
   },
   "outputs": [
    {
     "name": "stdout",
     "output_type": "stream",
     "text": [
      "batman\n",
      "batman & robin\n",
      "the dark knight rises\n",
      "batman begins\n",
      "batman returns\n",
      "batman forever\n",
      "the dark knight\n",
      "batman v superman: dawn of justice\n"
     ]
    }
   ],
   "source": [
    "recommend('batman')"
   ]
  },
  {
   "cell_type": "code",
   "execution_count": null,
   "id": "2932eb5b",
   "metadata": {
    "papermill": {
     "duration": 0.019371,
     "end_time": "2024-09-16T11:12:39.773898",
     "exception": false,
     "start_time": "2024-09-16T11:12:39.754527",
     "status": "completed"
    },
    "tags": []
   },
   "outputs": [],
   "source": []
  }
 ],
 "metadata": {
  "kaggle": {
   "accelerator": "none",
   "dataSources": [
    {
     "datasetId": 138,
     "sourceId": 4508,
     "sourceType": "datasetVersion"
    }
   ],
   "dockerImageVersionId": 30761,
   "isGpuEnabled": false,
   "isInternetEnabled": true,
   "language": "python",
   "sourceType": "notebook"
  },
  "kernelspec": {
   "display_name": "Python 3 (ipykernel)",
   "language": "python",
   "name": "python3"
  },
  "language_info": {
   "codemirror_mode": {
    "name": "ipython",
    "version": 3
   },
   "file_extension": ".py",
   "mimetype": "text/x-python",
   "name": "python",
   "nbconvert_exporter": "python",
   "pygments_lexer": "ipython3",
   "version": "3.11.7"
  },
  "papermill": {
   "default_parameters": {},
   "duration": 34.382265,
   "end_time": "2024-09-16T11:12:40.618167",
   "environment_variables": {},
   "exception": null,
   "input_path": "__notebook__.ipynb",
   "output_path": "__notebook__.ipynb",
   "parameters": {},
   "start_time": "2024-09-16T11:12:06.235902",
   "version": "2.6.0"
  }
 },
 "nbformat": 4,
 "nbformat_minor": 5
}
